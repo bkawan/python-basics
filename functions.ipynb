{
 "cells": [
  {
   "cell_type": "code",
   "execution_count": 84,
   "metadata": {
    "collapsed": false
   },
   "outputs": [
    {
     "name": "stdout",
     "output_type": "stream",
     "text": [
      "__main__\n"
     ]
    }
   ],
   "source": [
    "print(__name__)"
   ]
  },
  {
   "cell_type": "code",
   "execution_count": 93,
   "metadata": {
    "collapsed": false
   },
   "outputs": [
    {
     "ename": "ImportError",
     "evalue": "No module named 'mains'",
     "output_type": "error",
     "traceback": [
      "\u001b[0;31m---------------------------------------------------------------------------\u001b[0m",
      "\u001b[0;31mImportError\u001b[0m                               Traceback (most recent call last)",
      "\u001b[0;32m<ipython-input-93-39444f8ce3e2>\u001b[0m in \u001b[0;36m<module>\u001b[0;34m()\u001b[0m\n\u001b[0;32m----> 1\u001b[0;31m \u001b[0;32mimport\u001b[0m \u001b[0mmains\u001b[0m\u001b[0;34m\u001b[0m\u001b[0m\n\u001b[0m\u001b[1;32m      2\u001b[0m \u001b[0;34m\u001b[0m\u001b[0m\n\u001b[1;32m      3\u001b[0m \u001b[0mprint\u001b[0m\u001b[0;34m(\u001b[0m\u001b[0m__name__\u001b[0m\u001b[0;34m)\u001b[0m\u001b[0;34m\u001b[0m\u001b[0m\n\u001b[1;32m      4\u001b[0m \u001b[0;34m\u001b[0m\u001b[0m\n",
      "\u001b[0;31mImportError\u001b[0m: No module named 'mains'"
     ]
    }
   ],
   "source": [
    " import mains\n",
    "\n",
    "print(__name__)\n",
    "\n"
   ]
  },
  {
   "cell_type": "code",
   "execution_count": 82,
   "metadata": {
    "collapsed": true
   },
   "outputs": [],
   "source": [
    "def mains():\n",
    "    print(\"h\")"
   ]
  },
  {
   "cell_type": "code",
   "execution_count": 76,
   "metadata": {
    "collapsed": false
   },
   "outputs": [
    {
     "data": {
      "text/plain": [
       "function"
      ]
     },
     "execution_count": 76,
     "metadata": {},
     "output_type": "execute_result"
    }
   ],
   "source": [
    "a = mains\n",
    "type(a)\n"
   ]
  },
  {
   "cell_type": "code",
   "execution_count": 1,
   "metadata": {
    "collapsed": false
   },
   "outputs": [
    {
     "ename": "NameError",
     "evalue": "name 'a' is not defined",
     "output_type": "error",
     "traceback": [
      "\u001b[0;31m---------------------------------------------------------------------------\u001b[0m",
      "\u001b[0;31mNameError\u001b[0m                                 Traceback (most recent call last)",
      "\u001b[0;32m<ipython-input-1-d23808581cf8>\u001b[0m in \u001b[0;36m<module>\u001b[0;34m()\u001b[0m\n\u001b[0;32m----> 1\u001b[0;31m \u001b[0mdir\u001b[0m\u001b[0;34m(\u001b[0m\u001b[0ma\u001b[0m\u001b[0;34m)\u001b[0m\u001b[0;34m\u001b[0m\u001b[0m\n\u001b[0m",
      "\u001b[0;31mNameError\u001b[0m: name 'a' is not defined"
     ]
    }
   ],
   "source": [
    "dir(a)"
   ]
  },
  {
   "cell_type": "code",
   "execution_count": 17,
   "metadata": {
    "collapsed": false
   },
   "outputs": [
    {
     "name": "stdout",
     "output_type": "stream",
     "text": [
      "This is a test function\n",
      "This is test function with positional and named argument 1 2 4 4\n",
      "This is test function with positional and named argument 1 2 333333 400\n"
     ]
    }
   ],
   "source": [
    "\n",
    "def main():\n",
    "    testfunc()\n",
    "    \n",
    "def testfunc():\n",
    "    print('This is a test function')\n",
    "\n",
    "if __name__ ==\"__main__\":main()\n",
    "\n",
    "    \n",
    "def main1():\n",
    "    testfunc1(1,2,4)\n",
    "\n",
    "def testfunc1(num1,num2,num3=3,num4=4):\n",
    "    print(\"This is test function with positional and named argument\", num1,num2,num3,num4)\n",
    "\n",
    "if __name__ ==\"__main__\":main1()\n",
    "    \n",
    "def main2():\n",
    "    testfunc1(1,2, num4=400)\n",
    "\n",
    "def testfunc1(num1,num2,num3=None,num4=4):\n",
    "    if num3 is None:\n",
    "        num3 =333333\n",
    "    print(\"This is test function with positional and named argument\", num1,num2,num3,num4)\n",
    "\n",
    "if __name__ ==\"__main__\":main2()"
   ]
  },
  {
   "cell_type": "markdown",
   "metadata": {},
   "source": [
    " # arbitary number of arguments"
   ]
  },
  {
   "cell_type": "code",
   "execution_count": 43,
   "metadata": {
    "collapsed": true
   },
   "outputs": [],
   "source": [
    "def main3():\n",
    "    testfunc3(1,2,3)\n",
    "def testfunc3(first,second,third):\n",
    "    print(first,second,third)"
   ]
  },
  {
   "cell_type": "code",
   "execution_count": 44,
   "metadata": {
    "collapsed": false
   },
   "outputs": [
    {
     "name": "stdout",
     "output_type": "stream",
     "text": [
      "1 2 3\n"
     ]
    }
   ],
   "source": [
    "main3()"
   ]
  },
  {
   "cell_type": "code",
   "execution_count": 52,
   "metadata": {
    "collapsed": false
   },
   "outputs": [],
   "source": [
    "def main4():\n",
    "    testfunc4(1,2,3,'others1','others2',3)\n",
    "def testfunc4(first,second,third, *others):## give number and tuple\n",
    "    print(first,second,third,others)"
   ]
  },
  {
   "cell_type": "code",
   "execution_count": 53,
   "metadata": {
    "collapsed": false
   },
   "outputs": [
    {
     "name": "stdout",
     "output_type": "stream",
     "text": [
      "1 2 3 ('others1', 'others2', 3)\n"
     ]
    }
   ],
   "source": [
    "main4()"
   ]
  },
  {
   "cell_type": "code",
   "execution_count": 54,
   "metadata": {
    "collapsed": true
   },
   "outputs": [],
   "source": [
    "def main5():\n",
    "    testfunc5(1,2,3,'others1','others2',3,one=1,two=2, three=3)\n",
    "\n",
    "def testfunc5(first,second,third, *args, **kwargs):## others gives number,tuple and dict\n",
    "    print(first,second,third,args,kwargs)"
   ]
  },
  {
   "cell_type": "code",
   "execution_count": 55,
   "metadata": {
    "collapsed": false
   },
   "outputs": [
    {
     "name": "stdout",
     "output_type": "stream",
     "text": [
      "1 2 3 ('others1', 'others2', 3) {'one': 1, 'three': 3, 'two': 2}\n"
     ]
    }
   ],
   "source": [
    "main5()"
   ]
  },
  {
   "cell_type": "code",
   "execution_count": 60,
   "metadata": {
    "collapsed": false
   },
   "outputs": [],
   "source": [
    "def main6():\n",
    "    testfunc6(1,2,3)\n",
    "\n",
    "    ## args and kwargs are optional\n",
    "def testfunc6(first,second,third, *args, **kwargs):##  gives list of argments,tuple and dict \n",
    "    print(first,second,third)"
   ]
  },
  {
   "cell_type": "code",
   "execution_count": 61,
   "metadata": {
    "collapsed": false
   },
   "outputs": [
    {
     "name": "stdout",
     "output_type": "stream",
     "text": [
      "1 2 3\n"
     ]
    }
   ],
   "source": [
    "main6()"
   ]
  },
  {
   "cell_type": "code",
   "execution_count": 67,
   "metadata": {
    "collapsed": true
   },
   "outputs": [],
   "source": [
    "def main7():\n",
    "    func7(one=1,two=2)\n",
    "def func7(**kwargs):\n",
    "    print(\"Key:Value \", kwargs)"
   ]
  },
  {
   "cell_type": "code",
   "execution_count": 68,
   "metadata": {
    "collapsed": false
   },
   "outputs": [
    {
     "name": "stdout",
     "output_type": "stream",
     "text": [
      "Key:Value  {'one': 1, 'two': 2}\n"
     ]
    }
   ],
   "source": [
    "main7()"
   ]
  },
  {
   "cell_type": "code",
   "execution_count": 113,
   "metadata": {
    "collapsed": false
   },
   "outputs": [
    {
     "name": "stdout",
     "output_type": "stream",
     "text": [
      "printing All arguments : 1 2 3 (1, 2, 3, 4, 5, 5, 6, 6, 7, 8) {'one': 1, 'three': 3, 'two': 2}\n",
      "*args:  (1, 2, 3, 4, 5, 5, 6, 6, 7, 8)\n",
      "*args(3):  4\n",
      "Key's: dict_keys(['one', 'three', 'two'])\n",
      "Values: dict_values([1, 3, 2])\n",
      "Values: 1\n",
      "********** Loopint tuple (*args) ***************\n",
      "1 2 3 4 5 5 6 6 7 8 \n",
      "********** Loopint dict (**Kwargs) ***************\n",
      "Key=one: value=1 \n",
      "Key=three: value=3 \n",
      "Key=two: value=2 \n"
     ]
    }
   ],
   "source": [
    "def main8():\n",
    "    func8(1,2,3,1,2,3,4,5,5,6,6,7,8, one=1,two=2,three=3)\n",
    "\n",
    "    ## args and kwargs are optional\n",
    "def func8(first,second,third, *args, **kwargs):##  gives list of argments,tuple and dict \n",
    "    print(\"printing All arguments :\", first,second,third,args,kwargs)\n",
    "    \n",
    "    print(\"*args: \", args)\n",
    "    print(\"*args(3): \", args[3])\n",
    "    print(\"Key's:\",kwargs.keys())\n",
    "    print(\"Values:\",kwargs.values())\n",
    "    print(\"Values:\",kwargs['one'])\n",
    "    \n",
    "    print(\"********** Loopint tuple (*args) ***************\")\n",
    "    \n",
    "    for n in args:print(n,end=' ')\n",
    "    \n",
    "    print(\"\\n********** Loopint dict (**Kwargs) ***************\")\n",
    "    for key,value in kwargs.items():\n",
    "        print(\"Key={}: value={} \".format(key,value))\n",
    "\n",
    "    \n",
    "\n",
    "main8()\n",
    "    "
   ]
  },
  {
   "cell_type": "markdown",
   "metadata": {},
   "source": [
    "# returning values from function"
   ]
  },
  {
   "cell_type": "code",
   "execution_count": 111,
   "metadata": {
    "collapsed": false
   },
   "outputs": [
    {
     "name": "stdout",
     "output_type": "stream",
     "text": [
      "This is test for function returning values\n",
      "range(0, 10)\n",
      "0 1 2 3 4 5 6 7 8 9 "
     ]
    }
   ],
   "source": [
    "def main9():\n",
    "    print(func9())\n",
    "    print(fun10())\n",
    "    for n in fun10():print(n,end=' ')\n",
    "def func9():\n",
    "    return \"This is test for function returning values\"\n",
    "def fun10():\n",
    "    return range(10)\n",
    "main9()"
   ]
  },
  {
   "cell_type": "markdown",
   "metadata": {},
   "source": [
    "# Generators"
   ]
  },
  {
   "cell_type": "code",
   "execution_count": 118,
   "metadata": {
    "collapsed": false
   },
   "outputs": [
    {
     "name": "stdout",
     "output_type": "stream",
     "text": [
      "0 1 2 3 4 5 6 7 8 9 10 11 12 13 14 15 16 17 18 19 20 21 22 23 24 25 "
     ]
    }
   ],
   "source": [
    "def main10():\n",
    "    for i in inc_range(0,25,1):\n",
    "        print(i, end=' ')\n",
    "\n",
    "def inc_range(start,stop,step):\n",
    "    i = start\n",
    "    while i <=stop:\n",
    "        yield i\n",
    "        i += step\n",
    "main10()\n",
    "    "
   ]
  }
 ],
 "metadata": {
  "kernelspec": {
   "display_name": "Python 3",
   "language": "python",
   "name": "python3"
  },
  "language_info": {
   "codemirror_mode": {
    "name": "ipython",
    "version": 3
   },
   "file_extension": ".py",
   "mimetype": "text/x-python",
   "name": "python",
   "nbconvert_exporter": "python",
   "pygments_lexer": "ipython3",
   "version": "3.5.1"
  }
 },
 "nbformat": 4,
 "nbformat_minor": 0
}
