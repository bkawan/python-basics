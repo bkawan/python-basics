{
 "cells": [
  {
   "cell_type": "markdown",
   "metadata": {},
   "source": [
    "- @author bkawan\n",
    "- @date 14 May 2016"
   ]
  },
  {
   "cell_type": "markdown",
   "metadata": {},
   "source": [
    "# Regular Expression"
   ]
  },
  {
   "cell_type": "code",
   "execution_count": 1,
   "metadata": {
    "collapsed": false
   },
   "outputs": [],
   "source": [
    "import re\n",
    "\n",
    "def main():\n",
    "    fh = open('9-regex.txt')\n",
    "    \n",
    "    for line in fh:\n",
    "        if re.search('java',line):\n",
    "            print(line,end=' ')"
   ]
  },
  {
   "cell_type": "code",
   "execution_count": 2,
   "metadata": {
    "collapsed": false
   },
   "outputs": [
    {
     "name": "stdout",
     "output_type": "stream",
     "text": [
      "\t<script type=\"text/javascript\">\n",
      " \t<script type=\"text/javascript\" src=\"/assets/header/header-2fca869ee14503f3a87282a60a05c741.js\" ></script>\n",
      " \t<script type=\"text/javascript\">\n",
      " <script type=\"text/javascript\">\n",
      " gads.type = \"text/javascript\";\n",
      " <!-- Open Graph Tags --><meta property='og:site_name' content='IEEE Spectrum: Technology, Engineering, and Science News'/><meta property='og:title' content='The 2015 Top Ten Programming Languages'/><meta property='og:url' content='http://spectrum.ieee.org/computing/software/the-2015-top-ten-programming-languages'/><meta property='og:description' content='New languages enter the scene, and big data makes its mark'/><meta property='og:image' content='http://spectrum.ieee.org/image/MjY1MTgzMw'/><meta property='og:type' content='article'/><!-- Other Tags --><meta name='bt:id' content='2651141'><meta name='bt:author' content='Stephen Cass'><meta name='bt:pubDate' content='2015-07-20T15:12:00Z'><meta name='bt:modDate' content='2015-07-20T16:35:15Z'><meta name='bt:keywords' content='c, c#, c++, cuda, idl, java, r, swift, top programming languages, topic_computing, subtopic_software'>\n",
      " <!-- Parsely Tags --><meta name=\"parsely-page\" content='{\"title\":\"The 2015 Top Ten Programming Languages\",\"link\":\"http://spectrum.ieee.org/computing/software/the-2015-top-ten-programming-languages\",\"image_url\":\"http://spectrum.ieee.org/image/MjY1MTgzMg\",\"type\":\"post\",\"post_id\":\"/computing/software/the-2015-top-ten-programming-languages\",\"pub_date\":\"2015-07-20T15:12:00Z\",\"section\":\"Features\",\"author\":\"Stephen Cass\",\"tags\":[\"c\",\"c#\",\"c++\",\"cuda\",\"idl\",\"java\",\"r\",\"swift\",\"top programming languages\",\"medium.online-only\",\"type.article\",\"topic.computing\",\"subtopic.software\"]}'>\n",
      " \t\t\t<a href=\"javascript:splashpage.closeit()\">Continue to site&nbsp;➔</a>\n",
      " \t\t\t\t\t\t<script type=\"text/javascript\">\n",
      " <script type=\"text/javascript\" class=\"addthis\" src=\"//s7.addthis.com/js/300/addthis_widget.js#pubid=ra-4f4cf61812d7916f\"></script>\n",
      " <script type=\"text/javascript\">\n",
      "       var dsq = document.createElement('script'); dsq.type = 'text/javascript'; dsq.async = true;\n",
      " \t\t\t<script type=\"text/javascript\">\n",
      " \t\t\t<script type=\"text/javascript\">\n",
      " <script type=\"text/javascript\" src=\"/assets/footer/footer-eb9e30a605d6d8012a1325599a9dddac.js\" ></script>\n",
      " <script type=\"text/javascript\">\n",
      " "
     ]
    }
   ],
   "source": [
    "#print line with key word java\n",
    "main()"
   ]
  },
  {
   "cell_type": "code",
   "execution_count": 3,
   "metadata": {
    "collapsed": true
   },
   "outputs": [],
   "source": [
    "def main1():\n",
    "    fh = open('9-reg1.txt')\n",
    "    \n",
    "    for line in fh:\n",
    "        if re.search(r'\\bjava\\b',line):#give exact key word\n",
    "            print(line,end=\" \")"
   ]
  },
  {
   "cell_type": "code",
   "execution_count": 4,
   "metadata": {
    "collapsed": false
   },
   "outputs": [
    {
     "name": "stdout",
     "output_type": "stream",
     "text": [
      "        <a class=\"button\" href=\"http://www.jobsnepal.com/send-job/jr-java-developer/97552\">\n",
      "                  <div style=\"float:left; margin-right:5px;\"><a href=\"http://www.jobsnepal.com/job/jr-java-developer/97552\" data-image=\"7866_F1®.jpg\" data-title=\"Jr. Java Developer (Computer - Programming): Job Detail in Jobs Nepal\" data-desc=\"Jr. Java Developer Detail in Jobs Nepal- Jobs in Nepal at JobsNepal.com - An online job search engine for the job seekers in Nepal. The common search engine for job seekers, recruiters and employers.\" class=\"btnShare\"><img src=\"http://sites.jobsnepal.com/jnimg/share.jpg\"/></a> </div><div class=\"fb-like\" data-href=\"http://www.jobsnepal.com/job/jr-java-developer/97552\" data-layout=\"standard\" data-action=\"like\" data-show-faces=\"true\" data-share=\"false\" data-width=\"100\"></div>\n",
      " \t\t\t\t\t\t\t\t<ul><li><a href=\"http://www.jobsnepal.com/hotjob/java-developer/96874\" title=\"Java Developer\" target=\"_blank\">Java Developer</a></li><li><a href=\"http://www.jobsnepal.com/hotjob/senior-java-developer/96873\" title=\"Senior Java Developer\" target=\"_blank\">Senior Java Developer</a></li></ul><a href=\"#\" class=\"see-more\">See All (2)</a>\t\t\t</div>\t\t\t\n",
      " "
     ]
    }
   ],
   "source": [
    "main1()"
   ]
  },
  {
   "cell_type": "code",
   "execution_count": 5,
   "metadata": {
    "collapsed": true
   },
   "outputs": [],
   "source": [
    "def main1():\n",
    "    fh = open('9-reg1.txt')\n",
    "    \n",
    "    for line in fh:\n",
    "        if re.search(r'\\bjava|javascript\\b',line):\n",
    "            print(line,end=' ')"
   ]
  },
  {
   "cell_type": "code",
   "execution_count": 6,
   "metadata": {
    "collapsed": false
   },
   "outputs": [
    {
     "name": "stdout",
     "output_type": "stream",
     "text": [
      "\t\t<script type=\"text/javascript\">\n",
      " \t\t    var po = document.createElement('script'); po.type = 'text/javascript'; po.async = true;\n",
      " \t\t\t\t\t\t\t<!--X1 Block will be inserted via javascript-->\n",
      "         <a class=\"button\" href=\"http://www.jobsnepal.com/send-job/jr-java-developer/97552\">\n",
      "                  <div style=\"float:left; margin-right:5px;\"><a href=\"http://www.jobsnepal.com/job/jr-java-developer/97552\" data-image=\"7866_F1®.jpg\" data-title=\"Jr. Java Developer (Computer - Programming): Job Detail in Jobs Nepal\" data-desc=\"Jr. Java Developer Detail in Jobs Nepal- Jobs in Nepal at JobsNepal.com - An online job search engine for the job seekers in Nepal. The common search engine for job seekers, recruiters and employers.\" class=\"btnShare\"><img src=\"http://sites.jobsnepal.com/jnimg/share.jpg\"/></a> </div><div class=\"fb-like\" data-href=\"http://www.jobsnepal.com/job/jr-java-developer/97552\" data-layout=\"standard\" data-action=\"like\" data-show-faces=\"true\" data-share=\"false\" data-width=\"100\"></div>\n",
      " \t\t\t\t\t\t\t\t<ul><li><a href=\"http://www.jobsnepal.com/hotjob/java-developer/96874\" title=\"Java Developer\" target=\"_blank\">Java Developer</a></li><li><a href=\"http://www.jobsnepal.com/hotjob/senior-java-developer/96873\" title=\"Senior Java Developer\" target=\"_blank\">Senior Java Developer</a></li></ul><a href=\"#\" class=\"see-more\">See All (2)</a>\t\t\t</div>\t\t\t\n",
      " \t<script type=\"text/javascript\" src=\"http://www.jobsnepal.com/js/jn.js?v=1386537555\"></script>\n",
      " \t<script type=\"text/javascript\" src=\"http://www.jobsnepal.com/js/jn_front.js?v=1384487309\"></script>\n",
      " \t<script type=\"text/javascript\" src=\"http://www.jobsnepal.com/education/skin/js/slides.min.jquery.js\"></script>\n",
      " \t<script type=\"text/javascript\">\n",
      "         var ga = document.createElement('script'); ga.type = 'text/javascript'; ga.async = true;\n",
      " "
     ]
    }
   ],
   "source": [
    "main1()"
   ]
  },
  {
   "cell_type": "code",
   "execution_count": 7,
   "metadata": {
    "collapsed": false
   },
   "outputs": [
    {
     "name": "stdout",
     "output_type": "stream",
     "text": [
      "\t\t<script type=\"text/javascript\">\n",
      " \t\t    var po = document.createElement('script'); po.type = 'text/javascript'; po.async = true;\n",
      " \t\t\t\t\t\t\t<!--X1 Block will be inserted via javascript-->\n",
      " \t<script type=\"text/javascript\" src=\"http://www.jobsnepal.com/js/jn.js?v=1386537555\"></script>\n",
      " \t<script type=\"text/javascript\" src=\"http://www.jobsnepal.com/js/jn_front.js?v=1384487309\"></script>\n",
      " \t<script type=\"text/javascript\" src=\"http://www.jobsnepal.com/education/skin/js/slides.min.jquery.js\"></script>\n",
      " \t<script type=\"text/javascript\">\n",
      "         var ga = document.createElement('script'); ga.type = 'text/javascript'; ga.async = true;\n",
      " "
     ]
    }
   ],
   "source": [
    "def main2():\n",
    "    fh = open('9-reg1.txt')\n",
    "    \n",
    "    for line in fh:\n",
    "        if re.search(r'\\bjavascript\\b',line):\n",
    "            print(line,end=' ')\n",
    "main2()"
   ]
  },
  {
   "cell_type": "code",
   "execution_count": 8,
   "metadata": {
    "collapsed": false
   },
   "outputs": [],
   "source": [
    "def main2():\n",
    "    fh = open('9-reg1.txt')\n",
    "    \n",
    "    for line in fh:\n",
    "        match = re.search(r'\\bjava\\b',line)\n",
    "        #print(match)\n",
    "        \n",
    "        if match:\n",
    "            print(match.group())\n",
    "        \n"
   ]
  },
  {
   "cell_type": "code",
   "execution_count": 10,
   "metadata": {
    "collapsed": false
   },
   "outputs": [
    {
     "name": "stdout",
     "output_type": "stream",
     "text": [
      "java\n",
      "java\n",
      "java\n"
     ]
    }
   ],
   "source": [
    "main2()"
   ]
  },
  {
   "cell_type": "code",
   "execution_count": 9,
   "metadata": {
    "collapsed": false
   },
   "outputs": [],
   "source": [
    "def main3():\n",
    "    fh = open('9-reg1.txt')\n",
    "    for line in fh:\n",
    "        match = re.search(r'\\bjava|javascript\\b',line)\n",
    "        if match:\n",
    "            print(re.sub('Java|javascript','$$$$$$$$$$$$$$$$$$$$$$$$$$$',line),end=' ')\n"
   ]
  },
  {
   "cell_type": "code",
   "execution_count": 11,
   "metadata": {
    "collapsed": false
   },
   "outputs": [
    {
     "name": "stdout",
     "output_type": "stream",
     "text": [
      "\t\t<script type=\"text/$$$$$$$$$$$$$$$$$$$$$$$$$$$\">\n",
      " \t\t    var po = document.createElement('script'); po.type = 'text/$$$$$$$$$$$$$$$$$$$$$$$$$$$'; po.async = true;\n",
      " \t\t\t\t\t\t\t<!--X1 Block will be inserted via $$$$$$$$$$$$$$$$$$$$$$$$$$$-->\n",
      "         <a class=\"button\" href=\"http://www.jobsnepal.com/send-job/jr-java-developer/97552\">\n",
      "                  <div style=\"float:left; margin-right:5px;\"><a href=\"http://www.jobsnepal.com/job/jr-java-developer/97552\" data-image=\"7866_F1®.jpg\" data-title=\"Jr. $$$$$$$$$$$$$$$$$$$$$$$$$$$ Developer (Computer - Programming): Job Detail in Jobs Nepal\" data-desc=\"Jr. $$$$$$$$$$$$$$$$$$$$$$$$$$$ Developer Detail in Jobs Nepal- Jobs in Nepal at JobsNepal.com - An online job search engine for the job seekers in Nepal. The common search engine for job seekers, recruiters and employers.\" class=\"btnShare\"><img src=\"http://sites.jobsnepal.com/jnimg/share.jpg\"/></a> </div><div class=\"fb-like\" data-href=\"http://www.jobsnepal.com/job/jr-java-developer/97552\" data-layout=\"standard\" data-action=\"like\" data-show-faces=\"true\" data-share=\"false\" data-width=\"100\"></div>\n",
      " \t\t\t\t\t\t\t\t<ul><li><a href=\"http://www.jobsnepal.com/hotjob/java-developer/96874\" title=\"$$$$$$$$$$$$$$$$$$$$$$$$$$$ Developer\" target=\"_blank\">$$$$$$$$$$$$$$$$$$$$$$$$$$$ Developer</a></li><li><a href=\"http://www.jobsnepal.com/hotjob/senior-java-developer/96873\" title=\"Senior $$$$$$$$$$$$$$$$$$$$$$$$$$$ Developer\" target=\"_blank\">Senior $$$$$$$$$$$$$$$$$$$$$$$$$$$ Developer</a></li></ul><a href=\"#\" class=\"see-more\">See All (2)</a>\t\t\t</div>\t\t\t\n",
      " \t<script type=\"text/$$$$$$$$$$$$$$$$$$$$$$$$$$$\" src=\"http://www.jobsnepal.com/js/jn.js?v=1386537555\"></script>\n",
      " \t<script type=\"text/$$$$$$$$$$$$$$$$$$$$$$$$$$$\" src=\"http://www.jobsnepal.com/js/jn_front.js?v=1384487309\"></script>\n",
      " \t<script type=\"text/$$$$$$$$$$$$$$$$$$$$$$$$$$$\" src=\"http://www.jobsnepal.com/education/skin/js/slides.min.jquery.js\"></script>\n",
      " \t<script type=\"text/$$$$$$$$$$$$$$$$$$$$$$$$$$$\">\n",
      "         var ga = document.createElement('script'); ga.type = 'text/$$$$$$$$$$$$$$$$$$$$$$$$$$$'; ga.async = true;\n",
      " "
     ]
    }
   ],
   "source": [
    "main3()"
   ]
  },
  {
   "cell_type": "code",
   "execution_count": 12,
   "metadata": {
    "collapsed": true
   },
   "outputs": [],
   "source": [
    "def main4():\n",
    "    fh = open('9-reg1.txt')\n",
    "    for line in fh:\n",
    "        match =re.search('java|javascript',line)\n",
    "        if match:\n",
    "            print(line.replace(match.group(),\"±±±±±±±±±±±±±±±±±±±±\"), end=' ')"
   ]
  },
  {
   "cell_type": "code",
   "execution_count": 13,
   "metadata": {
    "collapsed": false
   },
   "outputs": [
    {
     "name": "stdout",
     "output_type": "stream",
     "text": [
      "\t\t<script type=\"text/±±±±±±±±±±±±±±±±±±±±script\">\n",
      " \t\t    var po = document.createElement('script'); po.type = 'text/±±±±±±±±±±±±±±±±±±±±script'; po.async = true;\n",
      " \t\t\t\t\t\t\t<!--X1 Block will be inserted via ±±±±±±±±±±±±±±±±±±±±script-->\n",
      "         <a class=\"button\" href=\"http://www.jobsnepal.com/send-job/jr-±±±±±±±±±±±±±±±±±±±±-developer/97552\">\n",
      "                  <div style=\"float:left; margin-right:5px;\"><a href=\"http://www.jobsnepal.com/job/jr-±±±±±±±±±±±±±±±±±±±±-developer/97552\" data-image=\"7866_F1®.jpg\" data-title=\"Jr. Java Developer (Computer - Programming): Job Detail in Jobs Nepal\" data-desc=\"Jr. Java Developer Detail in Jobs Nepal- Jobs in Nepal at JobsNepal.com - An online job search engine for the job seekers in Nepal. The common search engine for job seekers, recruiters and employers.\" class=\"btnShare\"><img src=\"http://sites.jobsnepal.com/jnimg/share.jpg\"/></a> </div><div class=\"fb-like\" data-href=\"http://www.jobsnepal.com/job/jr-±±±±±±±±±±±±±±±±±±±±-developer/97552\" data-layout=\"standard\" data-action=\"like\" data-show-faces=\"true\" data-share=\"false\" data-width=\"100\"></div>\n",
      " \t\t\t\t\t\t\t\t<ul><li><a href=\"http://www.jobsnepal.com/hotjob/±±±±±±±±±±±±±±±±±±±±-developer/96874\" title=\"Java Developer\" target=\"_blank\">Java Developer</a></li><li><a href=\"http://www.jobsnepal.com/hotjob/senior-±±±±±±±±±±±±±±±±±±±±-developer/96873\" title=\"Senior Java Developer\" target=\"_blank\">Senior Java Developer</a></li></ul><a href=\"#\" class=\"see-more\">See All (2)</a>\t\t\t</div>\t\t\t\n",
      " \t<script type=\"text/±±±±±±±±±±±±±±±±±±±±script\" src=\"http://www.jobsnepal.com/js/jn.js?v=1386537555\"></script>\n",
      " \t<script type=\"text/±±±±±±±±±±±±±±±±±±±±script\" src=\"http://www.jobsnepal.com/js/jn_front.js?v=1384487309\"></script>\n",
      " \t<script type=\"text/±±±±±±±±±±±±±±±±±±±±script\" src=\"http://www.jobsnepal.com/education/skin/js/slides.min.jquery.js\"></script>\n",
      " \t<script type=\"text/±±±±±±±±±±±±±±±±±±±±script\">\n",
      "         var ga = document.createElement('script'); ga.type = 'text/±±±±±±±±±±±±±±±±±±±±script'; ga.async = true;\n",
      " "
     ]
    }
   ],
   "source": [
    "main4()"
   ]
  },
  {
   "cell_type": "code",
   "execution_count": 14,
   "metadata": {
    "collapsed": false
   },
   "outputs": [],
   "source": [
    "def main5():\n",
    "    fh = open('9-reg1.txt')\n",
    "    pattern = re.compile('java')## printint word starting with java\n",
    "    for line in fh:\n",
    "        if re.search(pattern,line):\n",
    "            print(line,end=\" \")\n",
    "       "
   ]
  },
  {
   "cell_type": "code",
   "execution_count": 15,
   "metadata": {
    "collapsed": false
   },
   "outputs": [
    {
     "name": "stdout",
     "output_type": "stream",
     "text": [
      "\t\t<script type=\"text/javascript\">\n",
      " \t\t    var po = document.createElement('script'); po.type = 'text/javascript'; po.async = true;\n",
      " \t\t\t\t\t\t\t<!--X1 Block will be inserted via javascript-->\n",
      "         <a class=\"button\" href=\"http://www.jobsnepal.com/send-job/jr-java-developer/97552\">\n",
      "                  <div style=\"float:left; margin-right:5px;\"><a href=\"http://www.jobsnepal.com/job/jr-java-developer/97552\" data-image=\"7866_F1®.jpg\" data-title=\"Jr. Java Developer (Computer - Programming): Job Detail in Jobs Nepal\" data-desc=\"Jr. Java Developer Detail in Jobs Nepal- Jobs in Nepal at JobsNepal.com - An online job search engine for the job seekers in Nepal. The common search engine for job seekers, recruiters and employers.\" class=\"btnShare\"><img src=\"http://sites.jobsnepal.com/jnimg/share.jpg\"/></a> </div><div class=\"fb-like\" data-href=\"http://www.jobsnepal.com/job/jr-java-developer/97552\" data-layout=\"standard\" data-action=\"like\" data-show-faces=\"true\" data-share=\"false\" data-width=\"100\"></div>\n",
      " \t\t\t\t\t\t\t\t<ul><li><a href=\"http://www.jobsnepal.com/hotjob/java-developer/96874\" title=\"Java Developer\" target=\"_blank\">Java Developer</a></li><li><a href=\"http://www.jobsnepal.com/hotjob/senior-java-developer/96873\" title=\"Senior Java Developer\" target=\"_blank\">Senior Java Developer</a></li></ul><a href=\"#\" class=\"see-more\">See All (2)</a>\t\t\t</div>\t\t\t\n",
      " \t<script type=\"text/javascript\" src=\"http://www.jobsnepal.com/js/jn.js?v=1386537555\"></script>\n",
      " \t<script type=\"text/javascript\" src=\"http://www.jobsnepal.com/js/jn_front.js?v=1384487309\"></script>\n",
      " \t<script type=\"text/javascript\" src=\"http://www.jobsnepal.com/education/skin/js/slides.min.jquery.js\"></script>\n",
      " \t<script type=\"text/javascript\">\n",
      "         var ga = document.createElement('script'); ga.type = 'text/javascript'; ga.async = true;\n",
      " "
     ]
    }
   ],
   "source": [
    "main5()"
   ]
  },
  {
   "cell_type": "code",
   "execution_count": 16,
   "metadata": {
    "collapsed": true
   },
   "outputs": [],
   "source": [
    "def main6():\n",
    "    fh = open('9-reg1.txt')\n",
    "    pattern = re.compile(r'\\bjava\\b')## printing exact word java\n",
    "    for line in fh:\n",
    "        if re.search(pattern,line):\n",
    "            print(line,end=\" \")\n",
    "       "
   ]
  },
  {
   "cell_type": "code",
   "execution_count": 17,
   "metadata": {
    "collapsed": false
   },
   "outputs": [
    {
     "name": "stdout",
     "output_type": "stream",
     "text": [
      "        <a class=\"button\" href=\"http://www.jobsnepal.com/send-job/jr-java-developer/97552\">\n",
      "                  <div style=\"float:left; margin-right:5px;\"><a href=\"http://www.jobsnepal.com/job/jr-java-developer/97552\" data-image=\"7866_F1®.jpg\" data-title=\"Jr. Java Developer (Computer - Programming): Job Detail in Jobs Nepal\" data-desc=\"Jr. Java Developer Detail in Jobs Nepal- Jobs in Nepal at JobsNepal.com - An online job search engine for the job seekers in Nepal. The common search engine for job seekers, recruiters and employers.\" class=\"btnShare\"><img src=\"http://sites.jobsnepal.com/jnimg/share.jpg\"/></a> </div><div class=\"fb-like\" data-href=\"http://www.jobsnepal.com/job/jr-java-developer/97552\" data-layout=\"standard\" data-action=\"like\" data-show-faces=\"true\" data-share=\"false\" data-width=\"100\"></div>\n",
      " \t\t\t\t\t\t\t\t<ul><li><a href=\"http://www.jobsnepal.com/hotjob/java-developer/96874\" title=\"Java Developer\" target=\"_blank\">Java Developer</a></li><li><a href=\"http://www.jobsnepal.com/hotjob/senior-java-developer/96873\" title=\"Senior Java Developer\" target=\"_blank\">Senior Java Developer</a></li></ul><a href=\"#\" class=\"see-more\">See All (2)</a>\t\t\t</div>\t\t\t\n",
      " "
     ]
    }
   ],
   "source": [
    "main6()"
   ]
  },
  {
   "cell_type": "code",
   "execution_count": 21,
   "metadata": {
    "collapsed": true
   },
   "outputs": [],
   "source": [
    "def main8():\n",
    "    fh = open('9-reg1.txt')\n",
    "    pattern = re.compile('java|javascript',re.IGNORECASE)\n",
    "#     pattern = re.compile('java')## printint word starting with java\n",
    "    for line in fh:\n",
    "        if re.search(pattern,line):\n",
    "            print(pattern.sub('%%%%%%%%%%%%%%',line),end=' ')\n",
    "       \n",
    "    "
   ]
  },
  {
   "cell_type": "code",
   "execution_count": 22,
   "metadata": {
    "collapsed": false
   },
   "outputs": [
    {
     "name": "stdout",
     "output_type": "stream",
     "text": [
      "\t<title>Jr. %%%%%%%%%%%%%% Developer (Computer - Programming): Job Detail in Jobs Nepal</title>\n",
      " \t<meta name=\"keyword\" content=\"Jr. %%%%%%%%%%%%%% Developer, jobs in nepal, nepalese job market, work in nepal, employment in nepal, career nepal, employment nepal, nepal job market, nepali job market, job sites in nepal, job nepal, nepal job, nepaljobsite, nepal job site, nepalijobsite, nepali job site, vacancy in nepal, vacancies in nepal, career in nepal,  naukari, jagir, jaagir, naukri, nokari, nepal and jobs, jobs and nepal, nepal online jobs, jobs nepal, nepal jobs, nepali jobs, job in nepal, nepali job, job opportunity in nepal, find a job in nepal, find jobs in nepal, it jobs nepal, jobsnepal, nepaljobs, rojgaar nepal, ramro kaam nepal, ramro jagir, ramro jaagir, ramro job, high paying job, jobs for students, student job\" />\n",
      " \t<meta name=\"description\" content=\"Jr. %%%%%%%%%%%%%% Developer Detail in Jobs Nepal- Jobs in Nepal at JobsNepal.com - An online job search engine for the job seekers in Nepal. The common search engine for job seekers, recruiters and employers.\" />\n",
      " \t<meta property=\"og:title\" content=\"Jr. %%%%%%%%%%%%%% Developer (Computer - Programming): Job Detail in Jobs Nepal\"/>\n",
      " \t\t<script type=\"text/%%%%%%%%%%%%%%script\">\n",
      " \t\t    var po = document.createElement('script'); po.type = 'text/%%%%%%%%%%%%%%script'; po.async = true;\n",
      " \t\t\t\t\t\t\t<!--X1 Block will be inserted via %%%%%%%%%%%%%%script-->\n",
      " \t\t<h1>Jr. %%%%%%%%%%%%%% Developer : Detail</h1>\n",
      " <li>Experience on %%%%%%%%%%%%%%/J2EE.</li>\n",
      " <p><strong>F1soft International</strong> is looking for Junior %%%%%%%%%%%%%% Programmer&nbsp;for the head office located in Kathmandu.</p>\n",
      "         <a class=\"button\" href=\"http://www.jobsnepal.com/send-job/jr-%%%%%%%%%%%%%%-developer/97552\">\n",
      "                  <div style=\"float:left; margin-right:5px;\"><a href=\"http://www.jobsnepal.com/job/jr-%%%%%%%%%%%%%%-developer/97552\" data-image=\"7866_F1®.jpg\" data-title=\"Jr. %%%%%%%%%%%%%% Developer (Computer - Programming): Job Detail in Jobs Nepal\" data-desc=\"Jr. %%%%%%%%%%%%%% Developer Detail in Jobs Nepal- Jobs in Nepal at JobsNepal.com - An online job search engine for the job seekers in Nepal. The common search engine for job seekers, recruiters and employers.\" class=\"btnShare\"><img src=\"http://sites.jobsnepal.com/jnimg/share.jpg\"/></a> </div><div class=\"fb-like\" data-href=\"http://www.jobsnepal.com/job/jr-%%%%%%%%%%%%%%-developer/97552\" data-layout=\"standard\" data-action=\"like\" data-show-faces=\"true\" data-share=\"false\" data-width=\"100\"></div>\n",
      " \t\t\t\t\t\t\t\t<ul><li><a href=\"http://www.jobsnepal.com/hotjob/%%%%%%%%%%%%%%-developer/96874\" title=\"%%%%%%%%%%%%%% Developer\" target=\"_blank\">%%%%%%%%%%%%%% Developer</a></li><li><a href=\"http://www.jobsnepal.com/hotjob/senior-%%%%%%%%%%%%%%-developer/96873\" title=\"Senior %%%%%%%%%%%%%% Developer\" target=\"_blank\">Senior %%%%%%%%%%%%%% Developer</a></li></ul><a href=\"#\" class=\"see-more\">See All (2)</a>\t\t\t</div>\t\t\t\n",
      " \t<script type=\"text/%%%%%%%%%%%%%%script\" src=\"http://www.jobsnepal.com/js/jn.js?v=1386537555\"></script>\n",
      " \t<script type=\"text/%%%%%%%%%%%%%%script\" src=\"http://www.jobsnepal.com/js/jn_front.js?v=1384487309\"></script>\n",
      " \t<script type=\"text/%%%%%%%%%%%%%%script\" src=\"http://www.jobsnepal.com/education/skin/js/slides.min.jquery.js\"></script>\n",
      " \t<script type=\"text/%%%%%%%%%%%%%%script\">\n",
      "         var ga = document.createElement('script'); ga.type = 'text/%%%%%%%%%%%%%%script'; ga.async = true;\n",
      " "
     ]
    }
   ],
   "source": [
    "main8()"
   ]
  },
  {
   "cell_type": "code",
   "execution_count": 23,
   "metadata": {
    "collapsed": true
   },
   "outputs": [],
   "source": [
    "def main7():\n",
    "    fh = open('9-reg1.txt')\n",
    "    pattern = re.compile('java|javascript',re.IGNORECASE)\n",
    "#     pattern = re.compile('java')## printint word starting with java\n",
    "    for line in fh:\n",
    "        if re.search(pattern,line):\n",
    "            print(line,end=\" \")"
   ]
  },
  {
   "cell_type": "code",
   "execution_count": 24,
   "metadata": {
    "collapsed": false
   },
   "outputs": [
    {
     "name": "stdout",
     "output_type": "stream",
     "text": [
      "\t<title>Jr. Java Developer (Computer - Programming): Job Detail in Jobs Nepal</title>\n",
      " \t<meta name=\"keyword\" content=\"Jr. Java Developer, jobs in nepal, nepalese job market, work in nepal, employment in nepal, career nepal, employment nepal, nepal job market, nepali job market, job sites in nepal, job nepal, nepal job, nepaljobsite, nepal job site, nepalijobsite, nepali job site, vacancy in nepal, vacancies in nepal, career in nepal,  naukari, jagir, jaagir, naukri, nokari, nepal and jobs, jobs and nepal, nepal online jobs, jobs nepal, nepal jobs, nepali jobs, job in nepal, nepali job, job opportunity in nepal, find a job in nepal, find jobs in nepal, it jobs nepal, jobsnepal, nepaljobs, rojgaar nepal, ramro kaam nepal, ramro jagir, ramro jaagir, ramro job, high paying job, jobs for students, student job\" />\n",
      " \t<meta name=\"description\" content=\"Jr. Java Developer Detail in Jobs Nepal- Jobs in Nepal at JobsNepal.com - An online job search engine for the job seekers in Nepal. The common search engine for job seekers, recruiters and employers.\" />\n",
      " \t<meta property=\"og:title\" content=\"Jr. Java Developer (Computer - Programming): Job Detail in Jobs Nepal\"/>\n",
      " \t\t<script type=\"text/javascript\">\n",
      " \t\t    var po = document.createElement('script'); po.type = 'text/javascript'; po.async = true;\n",
      " \t\t\t\t\t\t\t<!--X1 Block will be inserted via javascript-->\n",
      " \t\t<h1>Jr. Java Developer : Detail</h1>\n",
      " <li>Experience on Java/J2EE.</li>\n",
      " <p><strong>F1soft International</strong> is looking for Junior Java Programmer&nbsp;for the head office located in Kathmandu.</p>\n",
      "         <a class=\"button\" href=\"http://www.jobsnepal.com/send-job/jr-java-developer/97552\">\n",
      "                  <div style=\"float:left; margin-right:5px;\"><a href=\"http://www.jobsnepal.com/job/jr-java-developer/97552\" data-image=\"7866_F1®.jpg\" data-title=\"Jr. Java Developer (Computer - Programming): Job Detail in Jobs Nepal\" data-desc=\"Jr. Java Developer Detail in Jobs Nepal- Jobs in Nepal at JobsNepal.com - An online job search engine for the job seekers in Nepal. The common search engine for job seekers, recruiters and employers.\" class=\"btnShare\"><img src=\"http://sites.jobsnepal.com/jnimg/share.jpg\"/></a> </div><div class=\"fb-like\" data-href=\"http://www.jobsnepal.com/job/jr-java-developer/97552\" data-layout=\"standard\" data-action=\"like\" data-show-faces=\"true\" data-share=\"false\" data-width=\"100\"></div>\n",
      " \t\t\t\t\t\t\t\t<ul><li><a href=\"http://www.jobsnepal.com/hotjob/java-developer/96874\" title=\"Java Developer\" target=\"_blank\">Java Developer</a></li><li><a href=\"http://www.jobsnepal.com/hotjob/senior-java-developer/96873\" title=\"Senior Java Developer\" target=\"_blank\">Senior Java Developer</a></li></ul><a href=\"#\" class=\"see-more\">See All (2)</a>\t\t\t</div>\t\t\t\n",
      " \t<script type=\"text/javascript\" src=\"http://www.jobsnepal.com/js/jn.js?v=1386537555\"></script>\n",
      " \t<script type=\"text/javascript\" src=\"http://www.jobsnepal.com/js/jn_front.js?v=1384487309\"></script>\n",
      " \t<script type=\"text/javascript\" src=\"http://www.jobsnepal.com/education/skin/js/slides.min.jquery.js\"></script>\n",
      " \t<script type=\"text/javascript\">\n",
      "         var ga = document.createElement('script'); ga.type = 'text/javascript'; ga.async = true;\n",
      " "
     ]
    }
   ],
   "source": [
    "main7()"
   ]
  }
 ],
 "metadata": {
  "kernelspec": {
   "display_name": "Python 3",
   "language": "python",
   "name": "python3"
  },
  "language_info": {
   "codemirror_mode": {
    "name": "ipython",
    "version": 3
   },
   "file_extension": ".py",
   "mimetype": "text/x-python",
   "name": "python",
   "nbconvert_exporter": "python",
   "pygments_lexer": "ipython3",
   "version": "3.5.1"
  }
 },
 "nbformat": 4,
 "nbformat_minor": 0
}
